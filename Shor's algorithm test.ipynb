{
 "cells": [
  {
   "cell_type": "code",
   "execution_count": 1,
   "id": "8f8053d3",
   "metadata": {},
   "outputs": [],
   "source": [
    "import math\n",
    "import numpy as np\n",
    "from qiskit import Aer\n",
    "from qiskit.utils import QuantumInstance\n",
    "from qiskit.algorithms import Shor"
   ]
  },
  {
   "cell_type": "markdown",
   "id": "14866f30",
   "metadata": {},
   "source": [
    "## Initial number to factorize"
   ]
  },
  {
   "cell_type": "code",
   "execution_count": 2,
   "id": "be0d25ae",
   "metadata": {},
   "outputs": [],
   "source": [
    "number = 24\n",
    "current_number = number\n",
    "prime_numbers = []"
   ]
  },
  {
   "cell_type": "markdown",
   "id": "c507ef7b",
   "metadata": {},
   "source": [
    "## 'Classical part' of Shor's algorithm"
   ]
  },
  {
   "cell_type": "code",
   "execution_count": 3,
   "id": "3482bd3b",
   "metadata": {},
   "outputs": [
    {
     "name": "stdout",
     "output_type": "stream",
     "text": [
      "Current number is: 24\n",
      "Current number is: 12\n",
      "Current number is: 6\n",
      "Current number is: 3\n"
     ]
    }
   ],
   "source": [
    "while(current_number%2==0):\n",
    "    print(f'Current number is: {current_number}')\n",
    "    current_number //= 2\n",
    "    prime_numbers.append(2)\n",
    "print(f'Current number is: {current_number}')"
   ]
  },
  {
   "cell_type": "markdown",
   "id": "4cc870cc",
   "metadata": {},
   "source": [
    "## 'Quantum part' of Shor's algorithm"
   ]
  },
  {
   "cell_type": "code",
   "execution_count": 4,
   "id": "48191802",
   "metadata": {},
   "outputs": [
    {
     "name": "stdout",
     "output_type": "stream",
     "text": [
      "The list of factors of 3 is empty, which means the number 3 is a prime number\n"
     ]
    }
   ],
   "source": [
    "backend = Aer.get_backend('aer_simulator')\n",
    "quantum_instance = QuantumInstance(backend, shots=256)\n",
    "shor = Shor(quantum_instance=quantum_instance)\n",
    "result = shor.factor(current_number)\n",
    "if not result.factors:\n",
    "    print(f'The list of factors of {current_number} is empty, which means the number {current_number} is a prime number')\n",
    "    prime_numbers.append(current_number)\n",
    "else:\n",
    "    print(f\"The list of factors of {current_number} as computed by the Shor's algorithm is {result.factors[0]}.\")\n",
    "    prime_numbers = prime_numbers + result.factors[0]"
   ]
  },
  {
   "cell_type": "markdown",
   "id": "8734f1cf",
   "metadata": {},
   "source": [
    "## Print all prime numbers"
   ]
  },
  {
   "cell_type": "code",
   "execution_count": 5,
   "id": "c376e12a",
   "metadata": {},
   "outputs": [
    {
     "name": "stdout",
     "output_type": "stream",
     "text": [
      "The list of all factors of 24 as computed by the Shor's algorithm with two parts is: [2, 2, 2, 3]\n"
     ]
    }
   ],
   "source": [
    "print(f\"The list of all factors of {number} as computed by the Shor's algorithm with two parts is: {prime_numbers}\" )"
   ]
  }
 ],
 "metadata": {
  "kernelspec": {
   "display_name": "Python 3 (ipykernel)",
   "language": "python",
   "name": "python3"
  },
  "language_info": {
   "codemirror_mode": {
    "name": "ipython",
    "version": 3
   },
   "file_extension": ".py",
   "mimetype": "text/x-python",
   "name": "python",
   "nbconvert_exporter": "python",
   "pygments_lexer": "ipython3",
   "version": "3.8.12"
  }
 },
 "nbformat": 4,
 "nbformat_minor": 5
}
